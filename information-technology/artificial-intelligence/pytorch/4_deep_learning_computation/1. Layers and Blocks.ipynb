{
 "cells": [
  {
   "cell_type": "code",
   "execution_count": 1,
   "id": "bcde1426",
   "metadata": {},
   "outputs": [],
   "source": [
    "import torch\n",
    "from torch import nn\n",
    "from torch.nn import functional as F"
   ]
  },
  {
   "cell_type": "code",
   "execution_count": 2,
   "id": "a21f4ff7",
   "metadata": {},
   "outputs": [
    {
     "data": {
      "text/plain": [
       "tensor([[ 0.1183, -0.0829, -0.0707, -0.1012,  0.1154,  0.0752, -0.2587,  0.0850,\n",
       "          0.0214,  0.0610],\n",
       "        [ 0.0627, -0.0597, -0.0044, -0.0849, -0.0042,  0.0080, -0.2276, -0.0831,\n",
       "          0.2140, -0.1782]], grad_fn=<AddmmBackward>)"
      ]
     },
     "execution_count": 2,
     "metadata": {},
     "output_type": "execute_result"
    }
   ],
   "source": [
    "net = nn.Sequential(nn.Linear(20, 256), nn.ReLU(), nn.Linear(256, 10))\n",
    "\n",
    "X = torch.rand(2, 20)\n",
    "net(X)"
   ]
  },
  {
   "cell_type": "markdown",
   "id": "0bed5f23",
   "metadata": {},
   "source": [
    "# A Custom Block"
   ]
  },
  {
   "cell_type": "code",
   "execution_count": 3,
   "id": "eadef45f",
   "metadata": {},
   "outputs": [],
   "source": [
    "class MLP(nn.Module):\n",
    "    # Declare a layer with model parameters.\n",
    "    # Here, we declare two fully connected layers.\n",
    "    def __init__(self):\n",
    "        # Call the constructor of the `MLP` parent class `Module` to \n",
    "        # perform the necessary initialization. In this way, other \n",
    "        # function arguments can also be specified during class instantiation,\n",
    "        # such as the model parameters, `params`.\n",
    "        super().__init__()\n",
    "        self.hidden = nn.Linear(20, 256) # Hidden layer\n",
    "        self.out = nn.Linear(256, 10) # Output layer\n",
    "    \n",
    "    # Define the forward propagation of the model, that is,\n",
    "    # how to return the required model output based on the input `X`\n",
    "    def forward(self, X):\n",
    "        # We use the functional version of ReLU defined in the \n",
    "        # nn.functional module.\n",
    "        return self.out(F.relu(self.hidden(X)))"
   ]
  },
  {
   "cell_type": "code",
   "execution_count": 4,
   "id": "a3a4f88c",
   "metadata": {},
   "outputs": [
    {
     "data": {
      "text/plain": [
       "tensor([[ 0.0842,  0.0259,  0.2572,  0.3152,  0.0699, -0.1885,  0.0204, -0.2124,\n",
       "         -0.0391, -0.1389],\n",
       "        [ 0.1721,  0.0276,  0.1589,  0.1362,  0.2001, -0.2295,  0.0804, -0.0304,\n",
       "         -0.0308, -0.1526]], grad_fn=<AddmmBackward>)"
      ]
     },
     "execution_count": 4,
     "metadata": {},
     "output_type": "execute_result"
    }
   ],
   "source": [
    "net = MLP()\n",
    "net(X)"
   ]
  },
  {
   "cell_type": "markdown",
   "id": "bc6dd045",
   "metadata": {},
   "source": [
    "# The Sequential Block"
   ]
  },
  {
   "cell_type": "code",
   "execution_count": 5,
   "id": "9d7e68e7",
   "metadata": {},
   "outputs": [],
   "source": [
    "# This class delivers the same functionality of the default `Sequential` class.\n",
    "class MySequential(nn.Module):\n",
    "    def __init__(self, *args):\n",
    "        super().__init__()\n",
    "        for idx, module in enumerate(args):\n",
    "            # Here, `module` is an instance of a `Module` subclass.\n",
    "            # We save it in the member variable `_modules` of the\n",
    "            # `Module` class, and its type is OrderedDict.\n",
    "            self._modules[str(idx)] = module\n",
    "    \n",
    "    def forward(self, X):\n",
    "        # OrderedDict gurantees that members will be traversed in the\n",
    "        # order they were added.\n",
    "        for block in self._modules.values():\n",
    "            X = block(X)\n",
    "        return X"
   ]
  },
  {
   "cell_type": "code",
   "execution_count": 6,
   "id": "5190c639",
   "metadata": {},
   "outputs": [
    {
     "data": {
      "text/plain": [
       "tensor([[ 0.0354,  0.1540,  0.0189,  0.1632, -0.0019,  0.2472, -0.0342, -0.0518,\n",
       "          0.1734, -0.0192],\n",
       "        [ 0.1419,  0.2769, -0.1476,  0.0830, -0.0679,  0.2109,  0.0627,  0.0056,\n",
       "          0.0456,  0.0417]], grad_fn=<AddmmBackward>)"
      ]
     },
     "execution_count": 6,
     "metadata": {},
     "output_type": "execute_result"
    }
   ],
   "source": [
    "net = MySequential(nn.Linear(20, 256), nn.ReLU(), nn.Linear(256, 10))\n",
    "net(X)"
   ]
  },
  {
   "cell_type": "markdown",
   "id": "4d3cfecc",
   "metadata": {},
   "source": [
    "# Executing Code in the Forward Propagation Function"
   ]
  },
  {
   "cell_type": "code",
   "execution_count": 7,
   "id": "6d19c695",
   "metadata": {},
   "outputs": [],
   "source": [
    "class FixedHiddenMLP(nn.Module):\n",
    "    def __init__(self):\n",
    "        super().__init__()\n",
    "        # Random weight parameters that will not compute gradients\n",
    "        # and therefore keep constant during training\n",
    "        self.rand_weight = torch.rand((20, 20), requires_grad=False)\n",
    "        self.linear = nn.Linear(20, 20)\n",
    "    \n",
    "    def forward(self, X):\n",
    "        X = self.linear(X)\n",
    "        # Use the created constant parameters, as well as the `relu` \n",
    "        # and `mm` functions.\n",
    "        X = F.relu(torch.mm(X, self.rand_weight) + 1)\n",
    "        # Reuse the fully-connected layer.\n",
    "        # This is equivalent to sharing parameters with two\n",
    "        # fully-connected layers.\n",
    "        X = self.linear(X)\n",
    "        # Control flow.\n",
    "        while X.abs().sum() > 1:\n",
    "            X /= 2\n",
    "        return X.sum()\n",
    "        \n",
    "        "
   ]
  },
  {
   "cell_type": "code",
   "execution_count": 8,
   "id": "b8207a3b",
   "metadata": {},
   "outputs": [
    {
     "data": {
      "text/plain": [
       "tensor(0.3160, grad_fn=<SumBackward0>)"
      ]
     },
     "execution_count": 8,
     "metadata": {},
     "output_type": "execute_result"
    }
   ],
   "source": [
    "net = FixedHiddenMLP()\n",
    "net(X)"
   ]
  },
  {
   "cell_type": "code",
   "execution_count": 10,
   "id": "91578762",
   "metadata": {},
   "outputs": [
    {
     "data": {
      "text/plain": [
       "tensor(0.0900, grad_fn=<SumBackward0>)"
      ]
     },
     "execution_count": 10,
     "metadata": {},
     "output_type": "execute_result"
    }
   ],
   "source": [
    "class NestMLP(nn.Module):\n",
    "    def __init__(self):\n",
    "        super().__init__()\n",
    "        self.net = nn.Sequential(nn.Linear(20, 64), nn.ReLU(),\n",
    "                                nn.Linear(64, 32), nn.ReLU())\n",
    "        self.linear = nn.Linear(32, 16)\n",
    "    \n",
    "    def forward(self, X):\n",
    "        return self.linear(self.net(X))\n",
    "\n",
    "chimera = nn.Sequential(NestMLP(), nn.Linear(16, 20), FixedHiddenMLP())\n",
    "chimera(X)"
   ]
  },
  {
   "cell_type": "code",
   "execution_count": null,
   "id": "0a7c812b",
   "metadata": {},
   "outputs": [],
   "source": []
  },
  {
   "cell_type": "code",
   "execution_count": null,
   "id": "2ec13990",
   "metadata": {},
   "outputs": [],
   "source": []
  }
 ],
 "metadata": {
  "kernelspec": {
   "display_name": "Python 3",
   "language": "python",
   "name": "python3"
  },
  "language_info": {
   "codemirror_mode": {
    "name": "ipython",
    "version": 3
   },
   "file_extension": ".py",
   "mimetype": "text/x-python",
   "name": "python",
   "nbconvert_exporter": "python",
   "pygments_lexer": "ipython3",
   "version": "3.8.10"
  }
 },
 "nbformat": 4,
 "nbformat_minor": 5
}
