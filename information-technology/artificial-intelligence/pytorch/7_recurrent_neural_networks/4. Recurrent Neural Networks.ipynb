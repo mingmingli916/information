{
 "cells": [
  {
   "cell_type": "code",
   "execution_count": 1,
   "id": "6e65516b",
   "metadata": {},
   "outputs": [],
   "source": [
    "import torch\n",
    "from d2l import torch as d2l"
   ]
  },
  {
   "cell_type": "markdown",
   "id": "1d8508f1",
   "metadata": {},
   "source": [
    "# Recurrent Neural Networks with Hidden States"
   ]
  },
  {
   "cell_type": "code",
   "execution_count": 2,
   "id": "767dba93",
   "metadata": {},
   "outputs": [
    {
     "data": {
      "text/plain": [
       "tensor([[-1.1725,  0.6563,  0.8627, -0.6986],\n",
       "        [-1.5836,  0.3465,  0.2641, -2.6706],\n",
       "        [-0.9166,  1.3159, -0.4207, -1.8637]])"
      ]
     },
     "execution_count": 2,
     "metadata": {},
     "output_type": "execute_result"
    }
   ],
   "source": [
    "# H_t = \\phi (X_t W_{xh} + H_{t-1} W_{hh} + b_h)\n",
    "# X_t W_{xh} + H_{t-1} W_{hh}\n",
    "X, W_xh = torch.normal(0, 1, (3, 1)), torch.normal(0, 1, (1, 4))\n",
    "H, W_hh = torch.normal(0, 1, (3, 4)), torch.normal(0, 1, (4, 4))\n",
    "torch.matmul(X, W_xh) + torch.matmul(H, W_hh)"
   ]
  },
  {
   "cell_type": "code",
   "execution_count": 3,
   "id": "1028b20d",
   "metadata": {},
   "outputs": [
    {
     "data": {
      "text/plain": [
       "tensor([[-1.1725,  0.6563,  0.8627, -0.6986],\n",
       "        [-1.5836,  0.3465,  0.2641, -2.6706],\n",
       "        [-0.9166,  1.3159, -0.4207, -1.8637]])"
      ]
     },
     "execution_count": 3,
     "metadata": {},
     "output_type": "execute_result"
    }
   ],
   "source": [
    "torch.matmul(torch.cat((X, H), 1), torch.cat((W_xh, W_hh), 0))"
   ]
  },
  {
   "cell_type": "markdown",
   "id": "2a77efdb",
   "metadata": {},
   "source": []
  },
  {
   "cell_type": "code",
   "execution_count": null,
   "id": "cbe43aec",
   "metadata": {},
   "outputs": [],
   "source": []
  },
  {
   "cell_type": "code",
   "execution_count": null,
   "id": "67e12f71",
   "metadata": {},
   "outputs": [],
   "source": []
  }
 ],
 "metadata": {
  "kernelspec": {
   "display_name": "Python 3",
   "language": "python",
   "name": "python3"
  },
  "language_info": {
   "codemirror_mode": {
    "name": "ipython",
    "version": 3
   },
   "file_extension": ".py",
   "mimetype": "text/x-python",
   "name": "python",
   "nbconvert_exporter": "python",
   "pygments_lexer": "ipython3",
   "version": "3.8.10"
  }
 },
 "nbformat": 4,
 "nbformat_minor": 5
}
